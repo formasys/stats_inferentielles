{
 "cells": [
  {
   "cell_type": "markdown",
   "metadata": {},
   "source": [
    "# Les tests statistiques"
   ]
  },
  {
   "cell_type": "code",
   "execution_count": 1,
   "metadata": {
    "id": "s4FlP_NYO4cj"
   },
   "outputs": [],
   "source": [
    "import pandas as pd\n",
    "import numpy as np\n",
    "import seaborn as sns\n",
    "import matplotlib.pyplot as plt\n",
    "\n",
    "from scipy.stats import ttest_1samp\n",
    "from scipy.stats import f_oneway\n",
    "from scipy.stats import chi2_contingency\n",
    "from scipy.stats import chi2\n",
    "from scipy.stats import pearsonr\n",
    "\n"
   ]
  },
  {
   "cell_type": "raw",
   "metadata": {},
   "source": [
    "Lien du dataset:https://www.kaggle.com/datasets/muhammadghazy/weightheightbmicategory"
   ]
  },
  {
   "cell_type": "code",
   "execution_count": 2,
   "metadata": {
    "id": "w7yTCET0O4cl",
    "outputId": "66deb520-68d2-456b-af3c-24e8ef77edee"
   },
   "outputs": [
    {
     "data": {
      "text/html": [
       "<div>\n",
       "<style scoped>\n",
       "    .dataframe tbody tr th:only-of-type {\n",
       "        vertical-align: middle;\n",
       "    }\n",
       "\n",
       "    .dataframe tbody tr th {\n",
       "        vertical-align: top;\n",
       "    }\n",
       "\n",
       "    .dataframe thead th {\n",
       "        text-align: right;\n",
       "    }\n",
       "</style>\n",
       "<table border=\"1\" class=\"dataframe\">\n",
       "  <thead>\n",
       "    <tr style=\"text-align: right;\">\n",
       "      <th></th>\n",
       "      <th>Gender</th>\n",
       "      <th>Height</th>\n",
       "      <th>Weight</th>\n",
       "      <th>BMI</th>\n",
       "    </tr>\n",
       "  </thead>\n",
       "  <tbody>\n",
       "    <tr>\n",
       "      <th>0</th>\n",
       "      <td>Male</td>\n",
       "      <td>1.875714</td>\n",
       "      <td>109.720985</td>\n",
       "      <td>Obesity</td>\n",
       "    </tr>\n",
       "    <tr>\n",
       "      <th>1</th>\n",
       "      <td>Male</td>\n",
       "      <td>1.747060</td>\n",
       "      <td>73.622732</td>\n",
       "      <td>Normal</td>\n",
       "    </tr>\n",
       "    <tr>\n",
       "      <th>2</th>\n",
       "      <td>Male</td>\n",
       "      <td>1.882397</td>\n",
       "      <td>96.497550</td>\n",
       "      <td>Overweight</td>\n",
       "    </tr>\n",
       "    <tr>\n",
       "      <th>3</th>\n",
       "      <td>Male</td>\n",
       "      <td>1.821967</td>\n",
       "      <td>99.809504</td>\n",
       "      <td>Obesity</td>\n",
       "    </tr>\n",
       "    <tr>\n",
       "      <th>4</th>\n",
       "      <td>Male</td>\n",
       "      <td>1.774998</td>\n",
       "      <td>93.598619</td>\n",
       "      <td>Overweight</td>\n",
       "    </tr>\n",
       "  </tbody>\n",
       "</table>\n",
       "</div>"
      ],
      "text/plain": [
       "  Gender    Height      Weight         BMI\n",
       "0   Male  1.875714  109.720985     Obesity\n",
       "1   Male  1.747060   73.622732      Normal\n",
       "2   Male  1.882397   96.497550  Overweight\n",
       "3   Male  1.821967   99.809504     Obesity\n",
       "4   Male  1.774998   93.598619  Overweight"
      ]
     },
     "execution_count": 2,
     "metadata": {},
     "output_type": "execute_result"
    }
   ],
   "source": [
    "df=pd.read_csv('weight-height-bmi.csv')\n",
    "df.head()"
   ]
  },
  {
   "cell_type": "code",
   "execution_count": 3,
   "metadata": {
    "id": "LbkxJa5DO4cm",
    "outputId": "d12be03b-be94-4d2a-9e7f-1d3f7c9a219d"
   },
   "outputs": [
    {
     "data": {
      "text/plain": [
       "Gender        2\n",
       "Height    10000\n",
       "Weight    10000\n",
       "BMI           4\n",
       "dtype: int64"
      ]
     },
     "execution_count": 3,
     "metadata": {},
     "output_type": "execute_result"
    }
   ],
   "source": [
    "df.nunique()"
   ]
  },
  {
   "cell_type": "markdown",
   "metadata": {
    "id": "H0yrkP4mPbkw"
   },
   "source": [
    "# Test d'une variable quantitative"
   ]
  },
  {
   "cell_type": "code",
   "execution_count": 4,
   "metadata": {
    "id": "lqEGuprJO4cn",
    "outputId": "62d2c062-d091-49b1-fc5e-bf97bd29ffc9"
   },
   "outputs": [
    {
     "data": {
      "text/plain": [
       "1.6857360177710958"
      ]
     },
     "execution_count": 4,
     "metadata": {},
     "output_type": "execute_result"
    }
   ],
   "source": [
    "df['Height'].mean()"
   ]
  },
  {
   "cell_type": "markdown",
   "metadata": {
    "id": "yo1O-VHEPBHJ"
   },
   "source": [
    "On veut faire un test statistique pour verifier si notre la moyenne de taille de notre échantillon est correcte par rapport à la population.\n",
    "On suppose que la taille a une distribution normale."
   ]
  },
  {
   "cell_type": "raw",
   "metadata": {},
   "source": [
    "H0: La moyenne est égale à 1,68\n",
    "H1:La moyenne est differente de 1,68"
   ]
  },
  {
   "cell_type": "code",
   "execution_count": 5,
   "metadata": {
    "id": "Cts6h-JkO4co",
    "outputId": "0c8cbcaa-034f-4e21-ca19-ad9cc68ffe79"
   },
   "outputs": [
    {
     "name": "stdout",
     "output_type": "stream",
     "text": [
      "p-values 4.512370903373828e-09\n",
      " we are rejecting null hypothesis\n"
     ]
    }
   ],
   "source": [
    "tset, pval = ttest_1samp(df['Height'], 1.68)\n",
    "\n",
    "print(\"p-values\",pval)\n",
    "\n",
    "if pval < 0.05:    # alpha value is 0.05 or 5%\n",
    "   print(\" we are rejecting null hypothesis\")\n",
    "else:\n",
    "  print(\"we are accepting null hypothesis\")"
   ]
  },
  {
   "cell_type": "code",
   "execution_count": null,
   "metadata": {
    "id": "qLPaXRrfO4cw"
   },
   "outputs": [],
   "source": []
  },
  {
   "cell_type": "code",
   "execution_count": null,
   "metadata": {},
   "outputs": [],
   "source": []
  },
  {
   "cell_type": "markdown",
   "metadata": {
    "id": "f3KY5c_0Prwi"
   },
   "source": [
    "# Correlation entre une variable quantitative et qualitative"
   ]
  },
  {
   "cell_type": "raw",
   "metadata": {
    "id": "DHgRSVUHO4cx"
   },
   "source": [
    "On veut voir s'il y a une relation entre l'indice BMI et le poids."
   ]
  },
  {
   "cell_type": "raw",
   "metadata": {},
   "source": [
    "H0: pas de relation entre BMI et poids\n",
    "H1: il y a une correlation entre le poids et l'indice BMI"
   ]
  },
  {
   "cell_type": "code",
   "execution_count": 6,
   "metadata": {
    "id": "3Gy4iHTVO4cy",
    "outputId": "39124c8a-810a-44c8-9544-beb007ba5534"
   },
   "outputs": [
    {
     "name": "stdout",
     "output_type": "stream",
     "text": [
      "['Obesity' 'Normal' 'Overweight' 'Underweight']\n",
      "{'Obesity': 0       109.720985\n",
      "3        99.809504\n",
      "33       93.069649\n",
      "59       95.039544\n",
      "78       89.108085\n",
      "           ...    \n",
      "4846     87.489569\n",
      "4861    102.504845\n",
      "4869    102.229926\n",
      "4968     85.892814\n",
      "4997     90.353440\n",
      "Name: Weight, Length: 255, dtype: float64, 'Normal': 1       73.622732\n",
      "5       69.042216\n",
      "22      67.663936\n",
      "24      73.484921\n",
      "29      70.008586\n",
      "          ...    \n",
      "9994    50.135381\n",
      "9995    62.041159\n",
      "9997    58.275377\n",
      "9998    74.322166\n",
      "9999    51.550324\n",
      "Name: Weight, Length: 4114, dtype: float64, 'Overweight': 2       96.497550\n",
      "4       93.598619\n",
      "6       83.428219\n",
      "7       76.190352\n",
      "8       79.800187\n",
      "          ...    \n",
      "9981    61.488655\n",
      "9982    80.735777\n",
      "9985    77.343883\n",
      "9992    62.909437\n",
      "9996    77.504315\n",
      "Name: Weight, Length: 5589, dtype: float64, 'Underweight': 5009    47.242314\n",
      "5191    41.153749\n",
      "5214    38.098588\n",
      "5360    31.289924\n",
      "5394    42.743031\n",
      "5605    41.747675\n",
      "5655    41.174682\n",
      "5740    36.528335\n",
      "5883    39.412932\n",
      "6269    41.750008\n",
      "6360    39.095530\n",
      "6367    38.915057\n",
      "6492    46.447990\n",
      "6624    32.383633\n",
      "6811    42.376488\n",
      "6982    35.912863\n",
      "7215    45.465704\n",
      "7294    35.655357\n",
      "7324    38.179154\n",
      "7427    39.035695\n",
      "7683    46.653706\n",
      "7821    45.805035\n",
      "7935    35.164164\n",
      "7974    43.722860\n",
      "8180    37.284577\n",
      "8181    41.059503\n",
      "8241    35.334163\n",
      "8330    47.196465\n",
      "8442    44.047187\n",
      "8673    45.918046\n",
      "8785    44.602403\n",
      "8819    37.660293\n",
      "9002    44.024981\n",
      "9285    29.347460\n",
      "9309    42.276635\n",
      "9462    38.289627\n",
      "9509    40.907379\n",
      "9566    32.998884\n",
      "9774    50.116694\n",
      "9775    39.478568\n",
      "9989    43.402710\n",
      "9991    46.653553\n",
      "Name: Weight, dtype: float64}\n"
     ]
    }
   ],
   "source": [
    "#ANOVA (F-TEST) \n",
    "df_anova = pd.read_csv('weight-height-bmi.csv')\n",
    "df_anova = df_anova[['Weight','BMI']]\n",
    "grps = pd.unique(df_anova.BMI.values)\n",
    "print(grps)\n",
    "d_data = {grp:df_anova['Weight'][df_anova.BMI == grp] for grp in grps}\n",
    "print(d_data) \n"
   ]
  },
  {
   "cell_type": "code",
   "execution_count": 7,
   "metadata": {
    "id": "w_q_T0NrO4cz",
    "outputId": "a21293a8-379c-407e-9bdf-324a237b37b1"
   },
   "outputs": [
    {
     "name": "stdout",
     "output_type": "stream",
     "text": [
      "p-value for significance is:  0.0\n",
      "reject null hypothesis\n"
     ]
    }
   ],
   "source": [
    "F, p = f_oneway(d_data['Obesity'], d_data['Normal'], d_data['Overweight'],d_data['Underweight'])\n",
    "print(\"p-value for significance is: \", p)\n",
    "if p<0.05:\n",
    "    print(\"reject null hypothesis\")\n",
    "else:\n",
    "    print(\"accept null hypothesis\")"
   ]
  },
  {
   "cell_type": "markdown",
   "metadata": {
    "id": "4yhXljCfQATL"
   },
   "source": [
    "# Correlation entre deux variables qualitatives"
   ]
  },
  {
   "cell_type": "raw",
   "metadata": {
    "id": "q5awAQzMO4c1"
   },
   "source": [
    "On souhaite maintenant étudier la correlation entre le sexe et l'indice BMI."
   ]
  },
  {
   "cell_type": "code",
   "execution_count": 8,
   "metadata": {
    "id": "OhdPkpTyO4c2",
    "outputId": "5b95b60e-0d61-43c1-bfec-ea7fb675ffbc"
   },
   "outputs": [
    {
     "name": "stdout",
     "output_type": "stream",
     "text": [
      "contingency_table :-\n",
      " BMI     Normal  Obesity  Overweight  Underweight\n",
      "Gender                                          \n",
      "Female    3887        0        1071           42\n",
      "Male       227      255        4518            0\n"
     ]
    }
   ],
   "source": [
    "contingency_table=pd.crosstab(df[\"Gender\"],df[\"BMI\"])\n",
    "print('contingency_table :-\\n',contingency_table)"
   ]
  },
  {
   "cell_type": "code",
   "execution_count": 9,
   "metadata": {
    "id": "nIt9vjinO4c3",
    "outputId": "985ad159-07e4-4de3-cc14-d7bb00082229"
   },
   "outputs": [
    {
     "name": "stderr",
     "output_type": "stream",
     "text": [
      "<ipython-input-9-e54aebe76170>:5: MatplotlibDeprecationWarning: Adding an axes using the same arguments as a previous axes currently reuses the earlier instance.  In a future version, a new instance will always be created and returned.  Meanwhile, this warning can be suppressed, and the future behavior ensured, by passing a unique label to each axes instance.\n",
      "  ax=plt.axes()\n"
     ]
    },
    {
     "data": {
      "text/plain": [
       "<Figure size 432x288 with 0 Axes>"
      ]
     },
     "metadata": {},
     "output_type": "display_data"
    },
    {
     "data": {
      "image/png": "[encoded data removed]",
      "text/plain": [
       "<Figure size 432x288 with 1 Axes>"
      ]
     },
     "metadata": {
      "needs_background": "light"
     },
     "output_type": "display_data"
    }
   ],
   "source": [
    "fig=plt.figure()\n",
    "contingency_table.T.plot(kind='barh', ylabel='frequence', width=0.8)\n",
    "\n",
    "plt.title('BMI vs Gender')\n",
    "ax=plt.axes()\n",
    "ax=ax.set(xlabel='BMI')"
   ]
  },
  {
   "cell_type": "raw",
   "metadata": {},
   "source": [
    "H0: pas de relation entre BMI et Gender\n",
    "H1: il y a une relation entre BMI et Gender"
   ]
  },
  {
   "cell_type": "code",
   "execution_count": 10,
   "metadata": {},
   "outputs": [
    {
     "name": "stdout",
     "output_type": "stream",
     "text": [
      "0.0\n"
     ]
    }
   ],
   "source": [
    "# Chi-square test of independence. \n",
    "c, p, dof, expected = chi2_contingency(contingency_table) \n",
    "# Print the p-value\n",
    "print(p)"
   ]
  },
  {
   "cell_type": "code",
   "execution_count": 11,
   "metadata": {
    "id": "aiKApkf7O4c4",
    "outputId": "fe97729e-3f4c-4a8e-ed69-8aeae855a44a"
   },
   "outputs": [
    {
     "name": "stdout",
     "output_type": "stream",
     "text": [
      "Observed Values :-\n",
      " [[3887    0 1071   42]\n",
      " [ 227  255 4518    0]]\n"
     ]
    }
   ],
   "source": [
    "#Observed Values\n",
    "Observed_Values = contingency_table.values \n",
    "print(\"Observed Values :-\\n\",Observed_Values)"
   ]
  },
  {
   "cell_type": "code",
   "execution_count": 12,
   "metadata": {
    "id": "V0LWPxqUO4c5",
    "outputId": "4edae166-be00-47d3-a545-975cbc6f4f5e"
   },
   "outputs": [
    {
     "name": "stdout",
     "output_type": "stream",
     "text": [
      "Expected Values :-\n",
      " [[2057.   127.5 2794.5   21. ]\n",
      " [2057.   127.5 2794.5   21. ]]\n"
     ]
    }
   ],
   "source": [
    "b=chi2_contingency(contingency_table)\n",
    "Expected_Values = b[3]\n",
    "print(\"Expected Values :-\\n\",Expected_Values)"
   ]
  },
  {
   "cell_type": "code",
   "execution_count": 13,
   "metadata": {
    "id": "falVhF9kO4c6",
    "outputId": "2ff1755e-6269-4a7f-d6c5-58f870fdad81"
   },
   "outputs": [
    {
     "name": "stdout",
     "output_type": "stream",
     "text": [
      "Degree of Freedom:  3\n"
     ]
    }
   ],
   "source": [
    "no_of_rows=len(contingency_table.iloc[:,0])\n",
    "no_of_columns=len(contingency_table.iloc[0,:])\n",
    "ddof=(no_of_rows-1)*(no_of_columns-1)\n",
    "print(\"Degree of Freedom: \",ddof)"
   ]
  },
  {
   "cell_type": "code",
   "execution_count": 14,
   "metadata": {
    "id": "aFyjaCzFO4c6",
    "outputId": "aad2e60b-b81a-4d5c-9dd4-1485c9ea905d"
   },
   "outputs": [
    {
     "name": "stdout",
     "output_type": "stream",
     "text": [
      "chi-square statistic:- 3511.1011181332037\n",
      "critical_value: 7.814727903251179\n",
      "p-value: 0.0\n",
      "Significance level:  0.05\n",
      "Degree of Freedom:  3\n",
      "chi-square statistic: 3511.1011181332037\n",
      "critical_value: 7.814727903251179\n",
      "p-value: 0.0\n",
      "Reject H0,There is a relationship between 2 categorical variables\n",
      "Reject H0,There is a relationship between 2 categorical variables\n"
     ]
    }
   ],
   "source": [
    "alpha = 0.05\n",
    "chi_square=sum([(o-e)**2./e for o,e in zip(Observed_Values,Expected_Values)])\n",
    "chi_square_statistic=chi_square[0]+chi_square[1]\n",
    "print(\"chi-square statistic:-\",chi_square_statistic)\n",
    "critical_value=chi2.ppf(q=1-alpha,df=ddof)\n",
    "print('critical_value:',critical_value)\n",
    "#p-value\n",
    "p_value=1-chi2.cdf(x=chi_square_statistic,df=ddof)\n",
    "print('p-value:',p_value)\n",
    "print('Significance level: ',alpha)\n",
    "print('Degree of Freedom: ',ddof)\n",
    "print('chi-square statistic:',chi_square_statistic)\n",
    "print('critical_value:',critical_value)\n",
    "print('p-value:',p_value)\n",
    "if chi_square_statistic>=critical_value:\n",
    "    print(\"Reject H0,There is a relationship between 2 categorical variables\")\n",
    "else:\n",
    "    print(\"Retain H0,There is no relationship between 2 categorical variables\")\n",
    "    \n",
    "if p_value<=alpha:\n",
    "    print(\"Reject H0,There is a relationship between 2 categorical variables\")\n",
    "else:\n",
    "    print(\"Retain H0,There is no relationship between 2 categorical variables\")"
   ]
  },
  {
   "cell_type": "markdown",
   "metadata": {
    "id": "dkjxYaCRO4c8"
   },
   "source": [
    "# Chi square (deux variables catégoriques) pour une autre base de données"
   ]
  },
  {
   "cell_type": "code",
   "execution_count": null,
   "metadata": {
    "id": "rhjMaHmUO4c9",
    "outputId": "bcf8a05b-3107-4a7f-adf7-7b9fc499cd9f"
   },
   "outputs": [],
   "source": [
    "df = pd.read_csv('tips.csv')\n",
    "df.head()"
   ]
  },
  {
   "cell_type": "code",
   "execution_count": null,
   "metadata": {
    "id": "UMm3gu85O4c-",
    "outputId": "f63214ae-230a-497b-a1b1-2271606253e2"
   },
   "outputs": [],
   "source": [
    "contigency= pd.crosstab(df['sex'], df['smoker']) \n",
    "contigency"
   ]
  },
  {
   "cell_type": "code",
   "execution_count": null,
   "metadata": {
    "id": "8AjqpY4-O4c_",
    "outputId": "00c2da2a-4acd-4ddc-90d9-1fd998e61c44"
   },
   "outputs": [],
   "source": [
    "contigency_pct = pd.crosstab(df['sex'], df['smoker'], normalize='index')\n",
    "contigency_pct"
   ]
  },
  {
   "cell_type": "code",
   "execution_count": null,
   "metadata": {
    "id": "QwQP1O-1O4c_",
    "outputId": "dc94c121-4036-42d6-c8e2-0bf7e6e5fcb4"
   },
   "outputs": [],
   "source": [
    "plt.figure(figsize=(12,8)) \n",
    "sns.heatmap(contigency, annot=True, cmap=\"YlGnBu\")"
   ]
  },
  {
   "cell_type": "code",
   "execution_count": null,
   "metadata": {
    "id": "DjLytTo2O4dA",
    "outputId": "fa5aba35-9f34-453c-d5c1-1241a55b90c0"
   },
   "outputs": [],
   "source": [
    "# Chi-square test of independence. \n",
    "c, p, dof, expected = chi2_contingency(contigency) \n",
    "# Print the p-value\n",
    "print(p)"
   ]
  },
  {
   "cell_type": "code",
   "execution_count": null,
   "metadata": {
    "id": "_sG2UHdOO4dB",
    "outputId": "3e10eab4-df5c-424d-e7ba-20c6654e57fe"
   },
   "outputs": [],
   "source": [
    "dof"
   ]
  },
  {
   "cell_type": "markdown",
   "metadata": {
    "id": "dN5CxZt5O4dC"
   },
   "source": [
    "# deux variables numeriques"
   ]
  },
  {
   "cell_type": "markdown",
   "metadata": {
    "id": "gSzNYVNjQrqD"
   },
   "source": [
    "La on veut voir la relation entre la taille et le poids."
   ]
  },
  {
   "cell_type": "code",
   "execution_count": 15,
   "metadata": {},
   "outputs": [
    {
     "data": {
      "text/html": [
       "<div>\n",
       "<style scoped>\n",
       "    .dataframe tbody tr th:only-of-type {\n",
       "        vertical-align: middle;\n",
       "    }\n",
       "\n",
       "    .dataframe tbody tr th {\n",
       "        vertical-align: top;\n",
       "    }\n",
       "\n",
       "    .dataframe thead th {\n",
       "        text-align: right;\n",
       "    }\n",
       "</style>\n",
       "<table border=\"1\" class=\"dataframe\">\n",
       "  <thead>\n",
       "    <tr style=\"text-align: right;\">\n",
       "      <th></th>\n",
       "      <th>Gender</th>\n",
       "      <th>Height</th>\n",
       "      <th>Weight</th>\n",
       "      <th>BMI</th>\n",
       "    </tr>\n",
       "  </thead>\n",
       "  <tbody>\n",
       "    <tr>\n",
       "      <th>0</th>\n",
       "      <td>Male</td>\n",
       "      <td>1.875714</td>\n",
       "      <td>109.720985</td>\n",
       "      <td>Obesity</td>\n",
       "    </tr>\n",
       "    <tr>\n",
       "      <th>1</th>\n",
       "      <td>Male</td>\n",
       "      <td>1.747060</td>\n",
       "      <td>73.622732</td>\n",
       "      <td>Normal</td>\n",
       "    </tr>\n",
       "    <tr>\n",
       "      <th>2</th>\n",
       "      <td>Male</td>\n",
       "      <td>1.882397</td>\n",
       "      <td>96.497550</td>\n",
       "      <td>Overweight</td>\n",
       "    </tr>\n",
       "    <tr>\n",
       "      <th>3</th>\n",
       "      <td>Male</td>\n",
       "      <td>1.821967</td>\n",
       "      <td>99.809504</td>\n",
       "      <td>Obesity</td>\n",
       "    </tr>\n",
       "    <tr>\n",
       "      <th>4</th>\n",
       "      <td>Male</td>\n",
       "      <td>1.774998</td>\n",
       "      <td>93.598619</td>\n",
       "      <td>Overweight</td>\n",
       "    </tr>\n",
       "  </tbody>\n",
       "</table>\n",
       "</div>"
      ],
      "text/plain": [
       "  Gender    Height      Weight         BMI\n",
       "0   Male  1.875714  109.720985     Obesity\n",
       "1   Male  1.747060   73.622732      Normal\n",
       "2   Male  1.882397   96.497550  Overweight\n",
       "3   Male  1.821967   99.809504     Obesity\n",
       "4   Male  1.774998   93.598619  Overweight"
      ]
     },
     "execution_count": 15,
     "metadata": {},
     "output_type": "execute_result"
    }
   ],
   "source": [
    "df=pd.read_csv('weight-height-bmi.csv')\n",
    "df.head()"
   ]
  },
  {
   "cell_type": "code",
   "execution_count": 16,
   "metadata": {
    "id": "ls2NPRqvO4dD",
    "outputId": "f6ed0fe8-0353-4270-d604-df36b6c96606"
   },
   "outputs": [
    {
     "data": {
      "text/plain": [
       "Text(0.5, 1.0, 'Weight vs Height')"
      ]
     },
     "execution_count": 16,
     "metadata": {},
     "output_type": "execute_result"
    },
    {
     "data": {
      "image/png": "[encoded data removed]",
      "text/plain": [
       "<Figure size 432x288 with 1 Axes>"
      ]
     },
     "metadata": {
      "needs_background": "light"
     },
     "output_type": "display_data"
    }
   ],
   "source": [
    "fig=plt.figure()\n",
    "ax=plt.axes()\n",
    "x=df['Height']\n",
    "y=df['Weight']\n",
    "plt.scatter(x,y)\n",
    "ax=ax.set(xlabel='Height', ylabel='Weight')\n",
    "plt.title('Weight vs Height', fontsize=16)"
   ]
  },
  {
   "cell_type": "code",
   "execution_count": 17,
   "metadata": {
    "id": "G1JnvCZoO4dE",
    "outputId": "576b5d53-4aeb-481f-a27d-774c28a4bea6"
   },
   "outputs": [
    {
     "data": {
      "text/html": [
       "<div>\n",
       "<style scoped>\n",
       "    .dataframe tbody tr th:only-of-type {\n",
       "        vertical-align: middle;\n",
       "    }\n",
       "\n",
       "    .dataframe tbody tr th {\n",
       "        vertical-align: top;\n",
       "    }\n",
       "\n",
       "    .dataframe thead th {\n",
       "        text-align: right;\n",
       "    }\n",
       "</style>\n",
       "<table border=\"1\" class=\"dataframe\">\n",
       "  <thead>\n",
       "    <tr style=\"text-align: right;\">\n",
       "      <th></th>\n",
       "      <th>Gender</th>\n",
       "      <th>Height</th>\n",
       "      <th>Weight</th>\n",
       "      <th>BMI</th>\n",
       "    </tr>\n",
       "  </thead>\n",
       "  <tbody>\n",
       "    <tr>\n",
       "      <th>0</th>\n",
       "      <td>Male</td>\n",
       "      <td>1.875714</td>\n",
       "      <td>109.720985</td>\n",
       "      <td>Obesity</td>\n",
       "    </tr>\n",
       "    <tr>\n",
       "      <th>1</th>\n",
       "      <td>Male</td>\n",
       "      <td>1.747060</td>\n",
       "      <td>73.622732</td>\n",
       "      <td>Normal</td>\n",
       "    </tr>\n",
       "    <tr>\n",
       "      <th>2</th>\n",
       "      <td>Male</td>\n",
       "      <td>1.882397</td>\n",
       "      <td>96.497550</td>\n",
       "      <td>Overweight</td>\n",
       "    </tr>\n",
       "    <tr>\n",
       "      <th>3</th>\n",
       "      <td>Male</td>\n",
       "      <td>1.821967</td>\n",
       "      <td>99.809504</td>\n",
       "      <td>Obesity</td>\n",
       "    </tr>\n",
       "    <tr>\n",
       "      <th>4</th>\n",
       "      <td>Male</td>\n",
       "      <td>1.774998</td>\n",
       "      <td>93.598619</td>\n",
       "      <td>Overweight</td>\n",
       "    </tr>\n",
       "    <tr>\n",
       "      <th>...</th>\n",
       "      <td>...</td>\n",
       "      <td>...</td>\n",
       "      <td>...</td>\n",
       "      <td>...</td>\n",
       "    </tr>\n",
       "    <tr>\n",
       "      <th>4995</th>\n",
       "      <td>Male</td>\n",
       "      <td>1.749046</td>\n",
       "      <td>80.345228</td>\n",
       "      <td>Overweight</td>\n",
       "    </tr>\n",
       "    <tr>\n",
       "      <th>4996</th>\n",
       "      <td>Male</td>\n",
       "      <td>1.751925</td>\n",
       "      <td>72.250505</td>\n",
       "      <td>Normal</td>\n",
       "    </tr>\n",
       "    <tr>\n",
       "      <th>4997</th>\n",
       "      <td>Male</td>\n",
       "      <td>1.702150</td>\n",
       "      <td>90.353440</td>\n",
       "      <td>Obesity</td>\n",
       "    </tr>\n",
       "    <tr>\n",
       "      <th>4998</th>\n",
       "      <td>Male</td>\n",
       "      <td>1.817566</td>\n",
       "      <td>84.325433</td>\n",
       "      <td>Overweight</td>\n",
       "    </tr>\n",
       "    <tr>\n",
       "      <th>4999</th>\n",
       "      <td>Male</td>\n",
       "      <td>1.786938</td>\n",
       "      <td>90.220815</td>\n",
       "      <td>Overweight</td>\n",
       "    </tr>\n",
       "  </tbody>\n",
       "</table>\n",
       "<p>5000 rows × 4 columns</p>\n",
       "</div>"
      ],
      "text/plain": [
       "     Gender    Height      Weight         BMI\n",
       "0      Male  1.875714  109.720985     Obesity\n",
       "1      Male  1.747060   73.622732      Normal\n",
       "2      Male  1.882397   96.497550  Overweight\n",
       "3      Male  1.821967   99.809504     Obesity\n",
       "4      Male  1.774998   93.598619  Overweight\n",
       "...     ...       ...         ...         ...\n",
       "4995   Male  1.749046   80.345228  Overweight\n",
       "4996   Male  1.751925   72.250505      Normal\n",
       "4997   Male  1.702150   90.353440     Obesity\n",
       "4998   Male  1.817566   84.325433  Overweight\n",
       "4999   Male  1.786938   90.220815  Overweight\n",
       "\n",
       "[5000 rows x 4 columns]"
      ]
     },
     "execution_count": 17,
     "metadata": {},
     "output_type": "execute_result"
    }
   ],
   "source": [
    "df_male=df[df['Gender']=='Male']\n",
    "df_male"
   ]
  },
  {
   "cell_type": "code",
   "execution_count": 18,
   "metadata": {
    "id": "_rkzoBgcO4dE",
    "outputId": "38d3f52c-65ee-4fa7-ef7c-33077d8218f0"
   },
   "outputs": [
    {
     "data": {
      "text/plain": [
       "Text(0.5, 1.0, 'Fréquence en fonction de l age')"
      ]
     },
     "execution_count": 18,
     "metadata": {},
     "output_type": "execute_result"
    },
    {
     "data": {
      "image/png": "[encoded data removed]",
      "text/plain": [
       "<Figure size 432x288 with 1 Axes>"
      ]
     },
     "metadata": {
      "needs_background": "light"
     },
     "output_type": "display_data"
    }
   ],
   "source": [
    "fig=plt.figure()\n",
    "ax=plt.axes()\n",
    "x=df_male['Height']\n",
    "y=df_male['Weight']\n",
    "plt.scatter(x,y)\n",
    "ax=ax.set(xlabel='Height', ylabel='Weight')\n",
    "plt.title('Fréquence en fonction de l age', fontsize=16)"
   ]
  },
  {
   "cell_type": "code",
   "execution_count": 19,
   "metadata": {
    "id": "R_LZsgeqO4dF",
    "outputId": "299462c3-fd96-4e39-d4d3-01dfbf325348"
   },
   "outputs": [
    {
     "name": "stdout",
     "output_type": "stream",
     "text": [
      "0.0\n"
     ]
    }
   ],
   "source": [
    "r,p=pearsonr(df['Height'],df['Weight'])\n",
    "print(p)"
   ]
  },
  {
   "cell_type": "code",
   "execution_count": 20,
   "metadata": {
    "id": "uiOar-KvO4dG",
    "outputId": "27d2fa88-e1a9-49c1-f27f-2c5969b21d65"
   },
   "outputs": [
    {
     "name": "stdout",
     "output_type": "stream",
     "text": [
      "[[1.         0.86297885]\n",
      " [0.86297885 1.        ]]\n"
     ]
    }
   ],
   "source": [
    "#autre méthode\n",
    "my_rho = np.corrcoef(df_male['Height'], df_male['Weight'])\n",
    "\n",
    "print(my_rho)"
   ]
  },
  {
   "cell_type": "code",
   "execution_count": null,
   "metadata": {
    "id": "UWtJ1SmnO4dH"
   },
   "outputs": [],
   "source": []
  }
 ],
 "metadata": {
  "colab": {
   "name": "tests_statistics_vf.ipynb",
   "provenance": []
  },
  "kernelspec": {
   "display_name": "Python 3",
   "language": "python",
   "name": "python3"
  },
  "language_info": {
   "codemirror_mode": {
    "name": "ipython",
    "version": 3
   },
   "file_extension": ".py",
   "mimetype": "text/x-python",
   "name": "python",
   "nbconvert_exporter": "python",
   "pygments_lexer": "ipython3",
   "version": "3.8.5"
  }
 },
 "nbformat": 4,
 "nbformat_minor": 1
}
